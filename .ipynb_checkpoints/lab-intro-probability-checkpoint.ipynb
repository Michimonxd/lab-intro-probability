{
 "cells": [
  {
   "cell_type": "markdown",
   "metadata": {},
   "source": [
    "# Lab | Intro to Probability"
   ]
  },
  {
   "cell_type": "markdown",
   "metadata": {},
   "source": [
    "**Objective**\n",
    "\n",
    "Welcome to this Intro to Probability lab, where we explore decision-making scenarios through the lens of probability and strategic analysis. In the business world, making informed decisions is crucial, especially when faced with uncertainties. This lab focuses on scenarios where probabilistic outcomes play a significant role in shaping strategies and outcomes. Students will engage in exercises that require assessing and choosing optimal paths based on data-driven insights. The goal is to enhance your skills by applying probability concepts to solve real-world problems."
   ]
  },
  {
   "cell_type": "markdown",
   "metadata": {},
   "source": [
    "**Challenge 1**"
   ]
  },
  {
   "cell_type": "markdown",
   "metadata": {},
   "source": [
    "#### Ironhack Airlines \n",
    "\n",
    "Often Airlines sell more tickets than they have seats available, this is called overbooking. Consider the following:\n",
    "- A plane has 450 seats. \n",
    "- Based on historical data we conclude that each individual passenger has a 3% chance of missing it's flight. \n",
    "\n",
    "If the Ironhack Airlines routinely sells 460 tickets, what is the chance that they have a seats for all passenger?"
   ]
  },
  {
   "cell_type": "code",
   "execution_count": 19,
   "metadata": {},
   "outputs": [
    {
     "name": "stdout",
     "output_type": "stream",
     "text": [
      "The probability that all passengers can be seated is: 0.9937\n"
     ]
    }
   ],
   "source": [
    "from scipy.stats import binom\n",
    "from scipy.stats import geom\n",
    "\n",
    "# Parameters\n",
    "T = 456  # total tickets sold\n",
    "p = 0.97  # probability of a passenger showing up\n",
    "seats = 450  # total seats available\n",
    "\n",
    "# Calculate the cumulative probability\n",
    "probability = binom.cdf(seats, T, p)\n",
    "print(f\"The probability that all passengers can be seated is: {probability:.4f}\")"
   ]
  },
  {
   "cell_type": "markdown",
   "metadata": {},
   "source": [
    "Why Ironhack Airlines Problem is a Binomial Distribution:\n",
    "Trials: There are exactly 460 passengers (trials), each with the possibility of showing up or missing the flight.\n",
    "Two Outcomes: Each passenger either shows up or doesn't.\n",
    "Probability: The probability of showing up is 97% for each passenger, and it remains constant across all passengers.\n",
    "Independence: Each passenger’s attendance is independent of the others."
   ]
  },
  {
   "cell_type": "markdown",
   "metadata": {},
   "source": [
    "**Challenge 2**"
   ]
  },
  {
   "cell_type": "markdown",
   "metadata": {},
   "source": [
    "#### Ironhack Call Center "
   ]
  },
  {
   "cell_type": "markdown",
   "metadata": {},
   "source": [
    "Suppose a customer service representative at a call center is handling customer complaints. Consider the following:\n",
    "- The probability of successfully resolving a customer complaint on the first attempt is 0.3. \n",
    "\n",
    "\n",
    "What is the probability that the representative needs to make at least three attempts before successfully resolving a customer complaint?"
   ]
  },
  {
   "cell_type": "code",
   "execution_count": 33,
   "metadata": {},
   "outputs": [
    {
     "name": "stdout",
     "output_type": "stream",
     "text": [
      "The probability of needing at least 3 attempts is: 0.490\n"
     ]
    }
   ],
   "source": [
    "# Probability of success on each attempt\n",
    "p = 0.3\n",
    "\n",
    "# Calculate the CDF for X <= 2 calculates the cumulative probability that the first success happens within 2 attempts.\n",
    "two_success = geom.cdf(2, p)\n",
    "\n",
    "# Calculate the probability of needing at least 3 attempts because all probability must be 1\n",
    "success_3 = 1 - two_success\n",
    "\n",
    "print(f\"The probability of needing at least 3 attempts is: {success_3:.3f}\")"
   ]
  },
  {
   "cell_type": "markdown",
   "metadata": {},
   "source": [
    "**Challenge 3**"
   ]
  },
  {
   "cell_type": "markdown",
   "metadata": {},
   "source": [
    "#### Ironhack Website"
   ]
  },
  {
   "cell_type": "markdown",
   "metadata": {},
   "source": [
    "Consider a scenario related to Ironhack website traffic. Where:\n",
    "- our website takes on average 500 visits per hour.\n",
    "- the website's server is designed to handle up to 550 vists per hour.\n",
    "\n",
    "\n",
    "What is the probability of the website server being overwhelmed?"
   ]
  },
  {
   "cell_type": "markdown",
   "metadata": {},
   "source": [
    "To solve this problem, we can model the number of visits per hour using a Poisson distribution. The Poisson distribution is suitable when modeling the number of events (in this case, website visits) happening in a fixed interval of time (an hour) given a known average rate (500 visits per hour)."
   ]
  },
  {
   "cell_type": "code",
   "execution_count": 4,
   "metadata": {},
   "outputs": [
    {
     "name": "stdout",
     "output_type": "stream",
     "text": [
      "The probability that the server is overwhelmed: 0.0129\n"
     ]
    }
   ],
   "source": [
    "T = 550\n",
    "#p= unknown\n",
    "visits = 500\n",
    "\n",
    "\n",
    "from scipy.stats import poisson\n",
    "\n",
    "\n",
    "# Calculate the CDF for X <= 550\n",
    "cdf_smaller = poisson.cdf(T, visits)\n",
    "\n",
    "# Calculate the probability that the website server is overwhelmed (more than 550 visits) in one hour\n",
    "cdf_bigger = 1 - cdf_smaller\n",
    "\n",
    "print(f\"The probability that the server is overwhelmed: {cdf_bigger:.4f}\")\n"
   ]
  },
  {
   "cell_type": "markdown",
   "metadata": {},
   "source": [
    "What is the probability of being overwhelmed at some point during a day? (consider 24hours)"
   ]
  },
  {
   "cell_type": "code",
   "execution_count": 12,
   "metadata": {},
   "outputs": [
    {
     "name": "stdout",
     "output_type": "stream",
     "text": [
      "The probability of being overwhelmed at least once in a day: 0.2677\n"
     ]
    }
   ],
   "source": [
    "# Probability of not being overwhelmed in one hour\n",
    "P_one_hour = 1 - cdf_bigger\n",
    "\n",
    "# Probability of not being overwhelmed in all 24 hours\n",
    "P_24_hour = P_one_hour ** 24\n",
    "\n",
    "# Probability of being overwhelmed at least once in 24 hours\n",
    "P_once = 1 - P_24_hour\n",
    "\n",
    "print(f\"The probability of being overwhelmed at least once in a day: {P_overwhelmed_at_least_once:.4f}\")"
   ]
  },
  {
   "cell_type": "markdown",
   "metadata": {},
   "source": [
    "**Challenge 4**"
   ]
  },
  {
   "cell_type": "markdown",
   "metadata": {},
   "source": [
    "#### Ironhack Helpdesk"
   ]
  },
  {
   "cell_type": "markdown",
   "metadata": {},
   "source": [
    "Consider a scenario related to the time between arrivals of customers at a service desk.\n",
    "\n",
    "On average, a customers arrives every 10minutes.\n",
    "\n",
    "What is the probability that the next customer will arrive within the next 5 minutes?"
   ]
  },
  {
   "cell_type": "markdown",
   "metadata": {},
   "source": [
    "This scenario follows an exponential distribution, which models the time between events in a Poisson process. Here, the time between customer arrivals is exponentially distributed, and we are given the average time between arrivals (10 minutes).\n",
    "\n",
    "Exponential Distribution Formula:\n",
    "The probability that the time until the next event (customer arrival) is less than or equal to a certain value \n",
    "𝑡\n",
    "t is given by the cumulative distribution function (CDF) of the exponential distribution:\n",
    "\n",
    "𝑃\n",
    "(\n",
    "𝑇\n",
    "≤\n",
    "𝑡\n",
    ")\n",
    "=\n",
    "1\n",
    "−\n",
    "𝑒\n",
    "−\n",
    "𝜆\n",
    "𝑡\n",
    "P(T≤t)=1−e \n",
    "−λt"
   ]
  },
  {
   "cell_type": "code",
   "execution_count": 21,
   "metadata": {},
   "outputs": [
    {
     "data": {
      "text/plain": [
       "0.3934693402873666"
      ]
     },
     "execution_count": 21,
     "metadata": {},
     "output_type": "execute_result"
    }
   ],
   "source": [
    "import math\n",
    "\n",
    "# Given parameters\n",
    "lambda_rate = 1 / 10  # 1 customer every 10 minutes\n",
    "t = 5  # probability within the next 5 minutes\n",
    "\n",
    "# Calculate the probability using the exponential CDF formula\n",
    "P_5 = 1 - math.exp(-lambda_rate * t)\n",
    "\n",
    "P_5"
   ]
  },
  {
   "cell_type": "markdown",
   "metadata": {},
   "source": [
    "If there is no customer for 15minutes, employees can that a 5minutes break.\n",
    "\n",
    "What is the probability an employee taking a break?"
   ]
  },
  {
   "cell_type": "code",
   "execution_count": 23,
   "metadata": {},
   "outputs": [
    {
     "data": {
      "text/plain": [
       "0.7768698398515702"
      ]
     },
     "execution_count": 23,
     "metadata": {},
     "output_type": "execute_result"
    }
   ],
   "source": [
    "# Given parameters\n",
    "lambda_rate = 1 / 10  # 1 customer every 10 minutes\n",
    "t = 15  # probability within the next 15 minutes\n",
    "\n",
    "# Calculate the probability using the exponential CDF formula\n",
    "P_15 = 1 - math.exp(-lambda_rate * t)\n",
    "P_15"
   ]
  },
  {
   "cell_type": "markdown",
   "metadata": {},
   "source": [
    "**Challenge 5**"
   ]
  },
  {
   "cell_type": "markdown",
   "metadata": {},
   "source": [
    "The weights of a certain species of birds follow a normal distribution with a mean weight of 150 grams and a standard deviation of 10 grams. \n",
    "\n",
    "- If we randomly select a bird, what is the probability that its weight is between 140 and 160 grams?"
   ]
  },
  {
   "cell_type": "markdown",
   "metadata": {},
   "source": [
    "\n",
    "In this case, the bird weights follow a normal distribution with a mean (\n",
    "𝜇\n",
    "μ) of 150 grams and a standard deviation (\n",
    "𝜎\n",
    "σ) of 10 grams. We want to calculate the probability that a randomly selected bird has a weight between 140 and 160 grams.\n",
    "\n",
    "Standard Normal Distribution (Z-score):\n",
    "To solve this, we can standardize the problem by converting the values to Z-scores, which tell us how many standard deviations a value is from the mean.\n",
    "\n",
    "The Z-score formula is:\n",
    "\n",
    "𝑍\n",
    "=\n",
    "𝑋\n",
    "−\n",
    "𝜇\n",
    "𝜎\n",
    "Z= \n",
    "σ\n",
    "X−μ\n",
    "​\n",
    " \n",
    "Where:\n",
    "\n",
    "𝑋\n",
    "X is the value we want to standardize.\n",
    "𝜇\n",
    "μ is the mean (150 grams).\n",
    "𝜎\n",
    "σ is the standard deviation (10 grams)."
   ]
  },
  {
   "cell_type": "code",
   "execution_count": 26,
   "metadata": {},
   "outputs": [
    {
     "data": {
      "text/plain": [
       "0.6826894921370859"
      ]
     },
     "execution_count": 26,
     "metadata": {},
     "output_type": "execute_result"
    }
   ],
   "source": [
    "from scipy.stats import norm\n",
    "\n",
    "# Given parameters\n",
    "mu = 150  # Mean weight in grams\n",
    "sigma = 10  # Standard deviation in grams\n",
    "\n",
    "# Calculate the Z-scores\n",
    "z_140 = (140 - mu) / sigma\n",
    "z_160 = (160 - mu) / sigma\n",
    "\n",
    "# Probabilities using the CDF of the normal distribution\n",
    "P_X_leq_160 = norm.cdf(z_160)\n",
    "P_X_leq_140 = norm.cdf(z_140)\n",
    "\n",
    "# The probability that the bird's weight is between 140 and 160 grams\n",
    "P_140_to_160 = P_X_leq_160 - P_X_leq_140\n",
    "\n",
    "P_140_to_160\n"
   ]
  },
  {
   "cell_type": "markdown",
   "metadata": {},
   "source": [
    "**Challenge 6**"
   ]
  },
  {
   "cell_type": "markdown",
   "metadata": {},
   "source": [
    "If the lifetime (in hours) of a certain electronic component follows an exponential distribution with a mean lifetime of 50 hours, what is the probability that the component fails within the first 30 hours?"
   ]
  },
  {
   "cell_type": "code",
   "execution_count": 28,
   "metadata": {},
   "outputs": [
    {
     "data": {
      "text/plain": [
       "0.4511883639059735"
      ]
     },
     "execution_count": 28,
     "metadata": {},
     "output_type": "execute_result"
    }
   ],
   "source": [
    "# Given parameters\n",
    "lambda_rate = 1 / 50  # 1 component failure every 50 hours on average\n",
    "t = 30  # Probability within the first 30 hours\n",
    "\n",
    "# Calculate the probability using the exponential CDF formula\n",
    "P_T_leq_30 = 1 - math.exp(-lambda_rate * t)\n",
    "\n",
    "P_T_leq_30"
   ]
  },
  {
   "cell_type": "code",
   "execution_count": null,
   "metadata": {},
   "outputs": [],
   "source": []
  }
 ],
 "metadata": {
  "kernelspec": {
   "display_name": "Python 3 (ipykernel)",
   "language": "python",
   "name": "python3"
  },
  "language_info": {
   "codemirror_mode": {
    "name": "ipython",
    "version": 3
   },
   "file_extension": ".py",
   "mimetype": "text/x-python",
   "name": "python",
   "nbconvert_exporter": "python",
   "pygments_lexer": "ipython3",
   "version": "3.12.4"
  }
 },
 "nbformat": 4,
 "nbformat_minor": 4
}
